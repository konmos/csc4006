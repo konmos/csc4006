{
 "cells": [
  {
   "cell_type": "code",
   "execution_count": 1,
   "id": "493dea39-298f-466d-8199-f3a6c1e6d523",
   "metadata": {},
   "outputs": [],
   "source": [
    "from formalisation import formalisation\n",
    "from formalisation.examples import dp2"
   ]
  },
  {
   "cell_type": "code",
   "execution_count": 2,
   "id": "40011545-ad90-4b0e-a10f-1b75104b6faf",
   "metadata": {},
   "outputs": [
    {
     "name": "stdout",
     "output_type": "stream",
     "text": [
      "[<Philosopher(Thread-5, started 139852199692032)>, <Philosopher(Thread-6, started 139851718395648)>, <Philosopher(Thread-7, started 139851709941504)>, <Philosopher(Thread-8, started 139851701487360)>, <Philosopher(Thread-9, started 139851693033216)>]\n",
      "got job Philosopher.think\n",
      "got jobgot job Philosopher.think\n",
      "got job Philosopher.think\n",
      "got job Philosopher.think\n",
      " Philosopher.think\n",
      "got output <Philosopher(Thread-9, started 139851693033216)> None None\n",
      "got output <Philosopher(Thread-5, started 139852199692032)> None None\n",
      "got output <Philosopher(Thread-6, started 139851718395648)> None None\n",
      "got output <Philosopher(Thread-8, started 139851701487360)> None None\n",
      "got output <Philosopher(Thread-7, started 139851709941504)> None None\n",
      "[<Philosopher(Thread-5, started 139852199692032)>, <Philosopher(Thread-6, started 139851718395648)>, <Philosopher(Thread-7, started 139851709941504)>, <Philosopher(Thread-8, started 139851701487360)>, <Philosopher(Thread-9, started 139851693033216)>]\n",
      "got jobgot jobgot jobgot jobgot job     Philosopher.eatPhilosopher.eatPhilosopher.eat\n",
      "Philosopher.eat\n",
      "Philosopher.eat\n",
      "\n",
      "got output\n",
      " <Philosopher(Thread-7, started 139851709941504)>  None\n",
      "got output <Philosopher(Thread-5, started 139852199692032)>  None\n",
      "got output <Philosopher(Thread-8, started 139851701487360)>  None\n",
      "got output <Philosopher(Thread-9, started 139851693033216)> None None\n",
      "got output <Philosopher(Thread-6, started 139851718395648)> None None\n"
     ]
    },
    {
     "data": {
      "text/plain": [
       "[{'event': 'dine',\n",
       "  'triggered': [{'event': 'Philosopher.think',\n",
       "    'agent': (4, 4),\n",
       "    'triggered': [{'event': 'Philosopher.eat',\n",
       "      'agent': (4, 4),\n",
       "      'triggered': []}]},\n",
       "   {'event': 'Philosopher.think', 'agent': (0, 0), 'triggered': []},\n",
       "   {'event': 'Philosopher.think',\n",
       "    'agent': (1, 1),\n",
       "    'triggered': [{'event': 'Philosopher.eat',\n",
       "      'agent': (1, 1),\n",
       "      'triggered': []}]},\n",
       "   {'event': 'Philosopher.think', 'agent': (3, 3), 'triggered': []},\n",
       "   {'event': 'Philosopher.think', 'agent': (2, 2), 'triggered': []}]}]"
      ]
     },
     "execution_count": 2,
     "metadata": {},
     "output_type": "execute_result"
    }
   ],
   "source": [
    "dp2.w.process_with_callback(\n",
    "    lambda w, r: w.reset_agents(),\n",
    "    ignore_exceptions=True\n",
    ")"
   ]
  },
  {
   "cell_type": "code",
   "execution_count": 3,
   "id": "39fa77c6-fa47-4581-af95-4bab4c0084e2",
   "metadata": {},
   "outputs": [],
   "source": [
    "dp2.w.draw_trace_graph(notebook=False)"
   ]
  }
 ],
 "metadata": {
  "kernelspec": {
   "display_name": "Python 3 (ipykernel)",
   "language": "python",
   "name": "python3"
  },
  "language_info": {
   "codemirror_mode": {
    "name": "ipython",
    "version": 3
   },
   "file_extension": ".py",
   "mimetype": "text/x-python",
   "name": "python",
   "nbconvert_exporter": "python",
   "pygments_lexer": "ipython3",
   "version": "3.8.2"
  }
 },
 "nbformat": 4,
 "nbformat_minor": 5
}
