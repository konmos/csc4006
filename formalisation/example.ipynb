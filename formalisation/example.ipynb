{
 "cells": [
  {
   "cell_type": "code",
   "execution_count": 9,
   "id": "c2e751c0-d2eb-4aca-bef0-db51d72d03eb",
   "metadata": {},
   "outputs": [],
   "source": [
    "import example\n",
    "import numpy as np\n",
    "import networkx as nx\n",
    "import matplotlib.pyplot as plt\n",
    "from pyvis.network import Network"
   ]
  },
  {
   "cell_type": "code",
   "execution_count": 1,
   "id": "47669e5b-3da5-467a-9d98-ba39a38a0bb5",
   "metadata": {},
   "outputs": [],
   "source": [
    "def get_nodes(events):\n",
    "    if events is None:\n",
    "        return []\n",
    "    \n",
    "    nodes = []\n",
    "    \n",
    "    for event in events:\n",
    "        if event.get('agent') is not None:\n",
    "            nodes.append(f'{event[\"event\"]}:{event[\"agent\"][0]}')\n",
    "        else:\n",
    "            nodes.append(event['event'])\n",
    "            \n",
    "        nodes.extend(get_nodes(event['triggered']))\n",
    "    \n",
    "    return nodes"
   ]
  },
  {
   "cell_type": "code",
   "execution_count": 2,
   "id": "53c44a45-1a00-424b-a0a0-5ddb201d7f7b",
   "metadata": {},
   "outputs": [],
   "source": [
    "def get_edges(events):\n",
    "    if events is None:\n",
    "        return []\n",
    "    \n",
    "    edges = []\n",
    "    \n",
    "    for event in events:\n",
    "        for triggered in event['triggered']:\n",
    "            src = event['event']\n",
    "            dest = triggered['event']\n",
    "            \n",
    "            if triggered.get('agent') is not None:\n",
    "                dest += f':{triggered[\"agent\"][0]}'\n",
    "            \n",
    "            if event.get('agent') is not None:\n",
    "                src += f':{event[\"agent\"][0]}'\n",
    "                \n",
    "            edges.append((src, dest))\n",
    "            edges.extend(get_edges(event['triggered']))\n",
    "    \n",
    "    return edges"
   ]
  },
  {
   "cell_type": "code",
   "execution_count": 10,
   "id": "977453b6-69db-40ac-9bbd-77f1cd381f49",
   "metadata": {},
   "outputs": [
    {
     "data": {
      "text/html": [
       "\n",
       "        <iframe\n",
       "            width=\"500px\"\n",
       "            height=\"500px\"\n",
       "            src=\"nx.html\"\n",
       "            frameborder=\"0\"\n",
       "            allowfullscreen\n",
       "            \n",
       "        ></iframe>\n",
       "        "
      ],
      "text/plain": [
       "<IPython.lib.display.IFrame at 0x7f6aec4eb940>"
      ]
     },
     "execution_count": 10,
     "metadata": {},
     "output_type": "execute_result"
    }
   ],
   "source": [
    "trace = example.w.process_with_callback(\n",
    "    lambda w, r: w.reset_agents(),\n",
    "    ['dine'], \n",
    "    ignore_exceptions=True\n",
    ")\n",
    "\n",
    "nodes = get_nodes(trace)\n",
    "edges = get_edges(trace)\n",
    "\n",
    "G = nx.DiGraph()\n",
    "G.add_nodes_from(nodes)\n",
    "G.add_edges_from(edges)\n",
    "net = Network(notebook=True, directed=True)\n",
    "net.from_nx(G)\n",
    "net.show(\"nx.html\")"
   ]
  }
 ],
 "metadata": {
  "kernelspec": {
   "display_name": "Python 3 (ipykernel)",
   "language": "python",
   "name": "python3"
  },
  "language_info": {
   "codemirror_mode": {
    "name": "ipython",
    "version": 3
   },
   "file_extension": ".py",
   "mimetype": "text/x-python",
   "name": "python",
   "nbconvert_exporter": "python",
   "pygments_lexer": "ipython3",
   "version": "3.8.2"
  }
 },
 "nbformat": 4,
 "nbformat_minor": 5
}
