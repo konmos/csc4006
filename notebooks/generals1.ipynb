{
 "cells": [
  {
   "cell_type": "markdown",
   "id": "99774eb2",
   "metadata": {},
   "source": [
    "*This is the initial implementation of the problem following meeting 2*\n",
    "\n",
    "### Extracted Story\n",
    "Several divisions of the Byzantine army are camped outside an enemy city, each division commanded by its own general. Each general observes the enemy and communicates his observation to the others. Each general then combines all the reported observations into a single plan of action (i.e., “attack” or “retreat”), for example, by using a majority vote. Communicating only by messengers, the generals must agree upon a common, and reasonable battle plan, however, one or more of them may be traitors who will try to confuse the others. All loyal generals must carry out the same plan, whereas the traitors may do anything they wish."
   ]
  },
  {
   "cell_type": "code",
   "execution_count": 4,
   "id": "0efa9f3c",
   "metadata": {},
   "outputs": [],
   "source": [
    "from itertools import combinations\n",
    "from collections import Counter"
   ]
  },
  {
   "cell_type": "code",
   "execution_count": 33,
   "id": "499e387e",
   "metadata": {},
   "outputs": [],
   "source": [
    "class EnemyCity:\n",
    "    def __init__(self, should_attack):\n",
    "        self.should_attack = should_attack\n",
    "\n",
    "city_a = EnemyCity(True)\n",
    "city_r = EnemyCity(False)"
   ]
  },
  {
   "cell_type": "code",
   "execution_count": 113,
   "id": "512302c7",
   "metadata": {},
   "outputs": [],
   "source": [
    "class General:\n",
    "    def __init__(self, is_traitor=False):\n",
    "        self._objective_observation = None\n",
    "        self.last_observations = []\n",
    "        self.is_traitor = is_traitor\n",
    "    \n",
    "    def make_observation(self, city: EnemyCity):\n",
    "        self._objective_observation = ('retreat', 'attack')[city.should_attack]\n",
    "    \n",
    "    def speak(self):\n",
    "        if not self.is_traitor:\n",
    "            return self._objective_observation\n",
    "        \n",
    "        if self._objective_observation == 'attack':\n",
    "            return 'retreat'\n",
    "        \n",
    "        return 'attack'\n",
    "    \n",
    "    def listen(self, observation):\n",
    "        self.last_observations.append(observation)\n",
    "    \n",
    "    def make_decision(self):\n",
    "        return Counter(self.last_observations).most_common(1)[0][0]"
   ]
  },
  {
   "cell_type": "code",
   "execution_count": 165,
   "id": "7e2b72c1",
   "metadata": {},
   "outputs": [],
   "source": [
    "class Messenger:\n",
    "    @staticmethod\n",
    "    def traverse_generals(generals):\n",
    "        for x, y in combinations(generals, 2):\n",
    "            x.listen(y.speak())\n",
    "            y.listen(x.speak())"
   ]
  },
  {
   "cell_type": "code",
   "execution_count": 206,
   "id": "823d8141",
   "metadata": {},
   "outputs": [
    {
     "name": "stdout",
     "output_type": "stream",
     "text": [
      "General 0   (loyal) says RETREAT based on ['retreat', 'attack']\n",
      "General 1 (traitor) says  ATTACK based on ['attack', 'attack']\n",
      "General 2   (loyal) says  ATTACK based on ['attack', 'retreat']\n",
      "\n",
      "Loyal Generals cannot agree on a plan of action!!!\n"
     ]
    }
   ],
   "source": [
    "if __name__ == '__main__':\n",
    "    generals = {General(), General(), General(True)}\n",
    "    \n",
    "    # Each general makes an objective observation\n",
    "    for g in generals:\n",
    "        g.make_observation(city_a)\n",
    "    \n",
    "    # Each general communicates his observation (or not)\n",
    "    m = Messenger()\n",
    "    m.traverse_generals(generals)\n",
    "    \n",
    "    # Each general comes up with a plan of action\n",
    "    loyal_poa = set()\n",
    "    \n",
    "    for x, g in enumerate(generals):\n",
    "        decision = g.make_decision()\n",
    "        \n",
    "        if not g.is_traitor:\n",
    "            loyal_poa.add(decision)\n",
    "            \n",
    "        print(\n",
    "            f'General {x} {\"(traitor)\" if g.is_traitor else \"(loyal)\":>9}'\n",
    "            f' says {decision.upper():>7} based on {g.last_observations:}'\n",
    "        )\n",
    "    \n",
    "    if len(loyal_poa) != 1:\n",
    "        print('\\nLoyal Generals cannot agree on a plan of action!!!')\n",
    "    else:\n",
    "        print(f'\\nLoyal Generals have agreed on: {loyal_poa.pop()}')"
   ]
  }
 ],
 "metadata": {
  "kernelspec": {
   "display_name": "Python 3",
   "language": "python",
   "name": "python3"
  },
  "language_info": {
   "codemirror_mode": {
    "name": "ipython",
    "version": 3
   },
   "file_extension": ".py",
   "mimetype": "text/x-python",
   "name": "python",
   "nbconvert_exporter": "python",
   "pygments_lexer": "ipython3",
   "version": "3.8.8"
  }
 },
 "nbformat": 4,
 "nbformat_minor": 5
}
