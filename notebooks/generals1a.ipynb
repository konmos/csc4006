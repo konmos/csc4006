{
 "cells": [
  {
   "cell_type": "markdown",
   "id": "99774eb2",
   "metadata": {},
   "source": [
    "Alternative implementation of `generals1`;\n",
    "* Traitors now return random observations."
   ]
  },
  {
   "cell_type": "code",
   "execution_count": 67,
   "id": "0efa9f3c",
   "metadata": {},
   "outputs": [],
   "source": [
    "import random\n",
    "from enum import Enum, auto\n",
    "from itertools import combinations\n",
    "from collections import Counter, defaultdict"
   ]
  },
  {
   "cell_type": "code",
   "execution_count": 79,
   "id": "2793e744",
   "metadata": {},
   "outputs": [],
   "source": [
    "LOG_COMMUNICATIONS = False  # Display the communication network between generals (this can get messy!)"
   ]
  },
  {
   "cell_type": "code",
   "execution_count": 69,
   "id": "66da0b08",
   "metadata": {},
   "outputs": [],
   "source": [
    "class Observation(Enum):\n",
    "    '''\n",
    "    Represents an observation that a general has made on a particular city.\n",
    "    '''\n",
    "    ATTACK = auto()\n",
    "    RETREAT = auto()"
   ]
  },
  {
   "cell_type": "code",
   "execution_count": 70,
   "id": "499e387e",
   "metadata": {},
   "outputs": [],
   "source": [
    "class EnemyCity:\n",
    "    def __init__(self, should_attack):\n",
    "        # A city is modelled to be \"objectively\" either attackable or not\n",
    "        self.should_attack = should_attack"
   ]
  },
  {
   "cell_type": "code",
   "execution_count": 80,
   "id": "512302c7",
   "metadata": {},
   "outputs": [],
   "source": [
    "class General:\n",
    "    '''\n",
    "    Represents a General who is either loyal or a traitor.\n",
    "    '''\n",
    "    # Used for easier representation\n",
    "    next_id = 0\n",
    "\n",
    "    def __init__(self, is_traitor=False):\n",
    "        self._objective_observation = None\n",
    "        self.last_observations = []\n",
    "        self.is_traitor = is_traitor\n",
    "\n",
    "        self._id = General.next_id\n",
    "        General.next_id += 1\n",
    "    \n",
    "    def make_observation(self, city: EnemyCity):\n",
    "        self._objective_observation = (Observation.RETREAT, Observation.ATTACK)[city.should_attack]\n",
    "    \n",
    "    def speak(self):\n",
    "        if not self.is_traitor:\n",
    "            return self._objective_observation\n",
    "        \n",
    "        # Traitors return a random observation\n",
    "        return random.choice([Observation.RETREAT, Observation.ATTACK])\n",
    "    \n",
    "    def listen(self, observation):\n",
    "        self.last_observations.append(observation)\n",
    "    \n",
    "    def make_decision(self):\n",
    "        return Counter(self.last_observations).most_common(1)[0][0]"
   ]
  },
  {
   "cell_type": "code",
   "execution_count": 72,
   "id": "7e2b72c1",
   "metadata": {},
   "outputs": [],
   "source": [
    "class Messenger:\n",
    "    @staticmethod\n",
    "    def traverse_generals(generals):\n",
    "        '''\n",
    "        Traverse the network created by pairing every general with every other general.\n",
    "        Calls the `speak`, and `listen` methods of each `General` instance.\n",
    "        Effectively creates a node graph of generals and messages.\n",
    "\n",
    "        :return: The resulting communication graph represented as a dictionary.\n",
    "        '''\n",
    "        # {General: {target: message, ...}, ...}\n",
    "        comms = defaultdict(dict)\n",
    "        \n",
    "        for x, y in combinations(generals, 2):\n",
    "            y_speak = y.speak()\n",
    "            x_speak = x.speak()\n",
    "            \n",
    "            x.listen(y_speak)\n",
    "            y.listen(x_speak)\n",
    "            \n",
    "            comms[y][x] = y_speak\n",
    "            comms[x][y] = x_speak\n",
    "        \n",
    "        return comms"
   ]
  },
  {
   "cell_type": "code",
   "execution_count": 73,
   "id": "64855990",
   "metadata": {},
   "outputs": [],
   "source": [
    "def main(total_generals, num_traitors=-1, should_attack=None):\n",
    "    '''\n",
    "    Run the main simulation between a number of generals.\n",
    "\n",
    "    :param total_generals: The TOTAL number of generals\n",
    "    :param num_traitors: The number of traitors.\n",
    "        Can be expressed either as...\n",
    "            int >= 0                 for an absolute size\n",
    "            float >= 0.0 and <= 1.0  for a percentage of `total_generals`\n",
    "            int < 0                  for random distribution\n",
    "    :param should_attack: Should the city be objectively attackable or not.\n",
    "        (default: random)\n",
    "    :return: The PoA agreed to by the loyal generals.\n",
    "        (\"retreat\", \"attack\" or None)\n",
    "    '''\n",
    "    n_traitors = 0\n",
    "    \n",
    "    if isinstance(num_traitors, int):\n",
    "        if num_traitors >= 0:\n",
    "            n_traitors = num_traitors\n",
    "        else:\n",
    "            n_traitors = int(total_generals * random.random())\n",
    "    elif isinstance(num_traitors, float) and 0 <= num_traitors <= 1:\n",
    "        n_traitors = int(total_generals * num_traitors)\n",
    "    \n",
    "    generals = [General(False) for _ in range(total_generals - n_traitors)] + \\\n",
    "               [General(True) for _ in range(n_traitors)]\n",
    "    \n",
    "    if should_attack is not None:\n",
    "        city = EnemyCity(should_attack)\n",
    "    else:\n",
    "        city = EnemyCity(random.choice([True, False]))\n",
    "    \n",
    "    print(\n",
    "        f'Running with {total_generals} total generals of which'\n",
    "        f' {n_traitors} are traitorous. EnemyCity.should_attack == {city.should_attack}\\n'\n",
    "    )\n",
    "    \n",
    "    # Each general makes an objective observation\n",
    "    for g in generals:\n",
    "        g.make_observation(city)\n",
    "    \n",
    "    # Each general communicates his observation (or not)\n",
    "    m = Messenger()\n",
    "    communications = m.traverse_generals(generals)\n",
    "    \n",
    "    # Each general comes up with a plan of action\n",
    "    loyal_poa, agreed_plan = set(), None\n",
    "    \n",
    "    for g in generals:\n",
    "        decision = g.make_decision()\n",
    "        \n",
    "        if not g.is_traitor:\n",
    "            loyal_poa.add(decision)\n",
    "    \n",
    "    if len(loyal_poa) != 1:\n",
    "        print('Loyal Generals cannot agree on a plan of action!!!\\n')\n",
    "    else:\n",
    "        print(f'Loyal Generals have agreed on: {(agreed_plan := loyal_poa.pop())}\\n')\n",
    "    \n",
    "    if LOG_COMMUNICATIONS:\n",
    "        for g in communications:\n",
    "            a, r = 0, 0\n",
    "            \n",
    "            for msg in communications[g].values():\n",
    "                if msg is Observation.ATTACK:\n",
    "                    a += 1\n",
    "                else:\n",
    "                    r += 1\n",
    "                    \n",
    "            print(\n",
    "                f'{\"[!] \" if g.is_traitor else \"\"}'\n",
    "                f'General {g._id} has made the objective observation of {g._objective_observation.name}'\n",
    "                f' and reported ATTTACK {a} times and RETREAT {r} times'\n",
    "            )\n",
    "    \n",
    "    return agreed_plan"
   ]
  },
  {
   "cell_type": "code",
   "execution_count": 130,
   "id": "823d8141",
   "metadata": {},
   "outputs": [
    {
     "name": "stdout",
     "output_type": "stream",
     "text": [
      "Running with 31 total generals of which 10 are traitorous. EnemyCity.should_attack == True\n",
      "\n",
      "Loyal Generals have agreed on: Observation.ATTACK\n",
      "\n",
      "Running with 30 total generals of which 10 are traitorous. EnemyCity.should_attack == False\n",
      "\n",
      "Loyal Generals have agreed on: Observation.RETREAT\n",
      "\n",
      "Running with 15 total generals of which 10 are traitorous. EnemyCity.should_attack == True\n",
      "\n",
      "Loyal Generals have agreed on: Observation.ATTACK\n",
      "\n"
     ]
    }
   ],
   "source": [
    "if __name__ == '__main__':\n",
    "    m = 10  # 10 traitors\n",
    "    \n",
    "    # The loyal generals should all agree to the same reasonable plan\n",
    "    main((3 * m) + 1, m)\n",
    "    \n",
    "    # Here, the loyal generals *should* fail to \n",
    "    # reach agreement or agree to an \"unreasonable\" plan.\n",
    "    # (This doesn't actually happen...)\n",
    "    main((3 * m), m)  # Note the missing `+1`\n",
    "    \n",
    "    main(15, 10)"
   ]
  }
 ],
 "metadata": {
  "interpreter": {
   "hash": "f9ebecb7b9dba74592b524c3d60e5affb55367149f35f20bcdb134d54864608c"
  },
  "kernelspec": {
   "display_name": "Python 3 (ipykernel)",
   "language": "python",
   "name": "python3"
  },
  "language_info": {
   "codemirror_mode": {
    "name": "ipython",
    "version": 3
   },
   "file_extension": ".py",
   "mimetype": "text/x-python",
   "name": "python",
   "nbconvert_exporter": "python",
   "pygments_lexer": "ipython3",
   "version": "3.8.12"
  }
 },
 "nbformat": 4,
 "nbformat_minor": 5
}
