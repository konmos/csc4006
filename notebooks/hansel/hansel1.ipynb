{
 "cells": [
  {
   "attachments": {
    "image-2.png": {
     "image/png": "[encoded data removed]"
    }
   },
   "cell_type": "markdown",
   "id": "bf0f4084",
   "metadata": {},
   "source": [
    "*Initial attempt at working with the fairy tale \"Hansel and Gretel\" and implementing it in code.*\n",
    "*Based on the \"Hansel and Gretel\" word document.*\n",
    "\n",
    "This implementation focuses on the \"path-finding\" algorithm used by Hansel.\n",
    "\n",
    "### Extracted Story\n",
    "\n",
    "Hansel and Gretel were scared. They knew the forest was deep and dark, and that it was easy to get lost.\n",
    "\"Don't worry! I have a plan!\" whispered Hansel to Gretel. He went to the back of the house and filled his pockets with white pebbles from the garden.\n",
    "Then the two children started walking, following their stepmother’s directions. Every few steps, Hansel dropped a little white pebble on the ground.\n",
    "...\n",
    "Hansel waited until the moon was bright. The moonlight shone through the tall trees and made his tiny white pebbles glow. They followed the trail of pebbles all the way back home.\n",
    "\n",
    "### User Stories\n",
    "\n",
    "* As HANSEL I want to...\n",
    "    * drop pebbles to mark my path from home\n",
    "    * follow my dropped pebbles to get back home\n",
    "\n",
    "### Assumptions\n",
    "\n",
    "* Pebbles are not necessarily placed in a straight line.\n",
    "* Hansel keeps track of which pebbles he has already visited.\n",
    "\n",
    "### Design Decisions\n",
    "\n",
    "* Hansel's path is modelled as a 2d graph where each pebble dropped has its coordinate in this two dimensional space.\n",
    "* A \"random walk\" is generated to simulate Hansel's path. This works by simply generating random points within a radius from an origin, providied that these points bring Hansel closer to the destination.\n",
    "* Hansel works his way back based on which pebbles are visible from his current location. This may be one pebble, or it may be more. The path he picks is not necessarily the same one which lead him to the destination. He may visit less pebbles, or he may get stuck by visiting the \"wrong\" ones.\n",
    "\n",
    "![image-2.png](attachment:image-2.png)"
   ]
  },
  {
   "cell_type": "code",
   "execution_count": 21,
   "id": "6426f1ea",
   "metadata": {},
   "outputs": [],
   "source": [
    "RADIUS = 15\n",
    "START_POINT = (0, 0)\n",
    "END_POINT = (100, 100)"
   ]
  },
  {
   "cell_type": "code",
   "execution_count": 22,
   "id": "75aa943e",
   "metadata": {},
   "outputs": [],
   "source": [
    "import random\n",
    "import math\n",
    "\n",
    "\n",
    "def get_random_point(radius, centerX, centerY):\n",
    "    # https://stackoverflow.com/a/50746409\n",
    "    r = radius * math.sqrt(random.random())\n",
    "    theta = random.random() * 2 * math.pi\n",
    "    return centerX + r * math.cos(theta), centerY + r * math.sin(theta)\n",
    "\n",
    "\n",
    "def gen_random_walk(origin, end, radius):\n",
    "    distance = math.dist(origin, end)\n",
    "    last_point = origin\n",
    "    \n",
    "    yield origin\n",
    "    \n",
    "    while distance > radius:\n",
    "        new_point = get_random_point(radius, *last_point)\n",
    "        dist = math.dist(new_point, end)\n",
    "        \n",
    "        while dist >= distance:\n",
    "            new_point = get_random_point(radius, *last_point)\n",
    "            dist = math.dist(new_point, end)\n",
    "\n",
    "        distance = dist\n",
    "        last_point = new_point\n",
    "        \n",
    "        yield last_point\n",
    "    \n",
    "    yield end\n",
    "\n",
    "    \n",
    "def check_visibility(current_point, points, view_distance):\n",
    "    visible = []\n",
    "\n",
    "    for p in points:\n",
    "        if p == current_point:\n",
    "            continue\n",
    "\n",
    "        if math.dist(p, current_point) <= view_distance:\n",
    "            visible.append(p)\n",
    "\n",
    "    return visible"
   ]
  },
  {
   "cell_type": "code",
   "execution_count": 23,
   "id": "b5320b75",
   "metadata": {},
   "outputs": [],
   "source": [
    "class Pebble():\n",
    "    def __init__(self, position, visited=False):\n",
    "        self.pos = position\n",
    "        self.visited = visited\n",
    "    \n",
    "    def __repr__(self):\n",
    "        return f'<Pebble {self.pos}>'"
   ]
  },
  {
   "cell_type": "code",
   "execution_count": 24,
   "id": "0aa0714c",
   "metadata": {},
   "outputs": [],
   "source": [
    "class Hansel:\n",
    "    def __init__(self):\n",
    "        self.steps = []  # dropped pebbles\n",
    "        self.path = []   # path taken when following pebbles backwards\n",
    "        \n",
    "        self._last_pebble = None  # marker when moving backwards\n",
    "        self._walk = gen_random_walk(START_POINT, END_POINT, RADIUS)  # step generator\n",
    "    \n",
    "    def step_forward(self):\n",
    "        '''Move forward, dropping a pebble.'''\n",
    "        try:\n",
    "            p = Pebble(next(self._walk))\n",
    "        except StopIteration:\n",
    "            return\n",
    "        \n",
    "        self.steps.append(p)\n",
    "        return p\n",
    "    \n",
    "    def follow_back(self):\n",
    "        '''Follow the laid pebbles backwards.'''\n",
    "        if self._last_pebble is None:\n",
    "            next_pebble = self.steps[-1]\n",
    "        else:\n",
    "            if self._last_pebble.pos == START_POINT:\n",
    "                return\n",
    "            \n",
    "            visible_locations = check_visibility(\n",
    "                self._last_pebble.pos,\n",
    "                [x.pos for x in self.steps],\n",
    "                RADIUS\n",
    "            )\n",
    "\n",
    "            try:\n",
    "                next_pebble = next(\n",
    "                    x for x in self.steps if x.pos in visible_locations and not x.visited\n",
    "                )\n",
    "            except StopIteration:\n",
    "                next_pebble = None\n",
    "        \n",
    "        if next_pebble is not None:\n",
    "            self._last_pebble = next_pebble\n",
    "            self._last_pebble.visited = True\n",
    "            self.path.append(self._last_pebble)\n",
    "            return self._last_pebble"
   ]
  },
  {
   "cell_type": "code",
   "execution_count": null,
   "id": "ea6c8cd7",
   "metadata": {},
   "outputs": [],
   "source": [
    "if __name__ == '__main__':\n",
    "    hansel = Hansel()\n",
    "    \n",
    "    # step forward\n",
    "    while hansel.step_forward() is not None:\n",
    "        ...\n",
    "    \n",
    "    # step backward\n",
    "    while hansel.follow_back() is not None:\n",
    "        ..."
   ]
  },
  {
   "cell_type": "code",
   "execution_count": null,
   "id": "55b42822",
   "metadata": {},
   "outputs": [],
   "source": [
    "def visualize(steps_forward, return_path):\n",
    "    '''\n",
    "    Visualize Hansel's path.\n",
    "    \n",
    "    :param steps_forward: list of pebbles\n",
    "    :param return_path: list of pebbles\n",
    "    '''\n",
    "    import matplotlib.pyplot as plt\n",
    "    \n",
    "    # draw graph\n",
    "    fig, ax = plt.subplots()\n",
    "    \n",
    "    for p in steps_forward:\n",
    "        if p in return_path:\n",
    "            plt.plot(*p.pos, 'ro')\n",
    "            ax.annotate(return_path.index(p), (p.pos[0] + 1, p.pos[1] + 1))\n",
    "        else:\n",
    "            plt.plot(*p.pos, 'bo')\n",
    "    \n",
    "    plt.show()"
   ]
  },
  {
   "cell_type": "code",
   "execution_count": 25,
   "id": "e82e41c7",
   "metadata": {},
   "outputs": [
    {
     "data": {
      "image/png": "[encoded data removed]",
      "text/plain": [
       "<Figure size 432x288 with 1 Axes>"
      ]
     },
     "metadata": {
      "needs_background": "light"
     },
     "output_type": "display_data"
    }
   ],
   "source": [
    "visualize(hansel.steps, hansel.path)"
   ]
  }
 ],
 "metadata": {
  "kernelspec": {
   "display_name": "Python 3 (ipykernel)",
   "language": "python",
   "name": "python3"
  },
  "language_info": {
   "codemirror_mode": {
    "name": "ipython",
    "version": 3
   },
   "file_extension": ".py",
   "mimetype": "text/x-python",
   "name": "python",
   "nbconvert_exporter": "python",
   "pygments_lexer": "ipython3",
   "version": "3.9.7"
  }
 },
 "nbformat": 4,
 "nbformat_minor": 5
}
