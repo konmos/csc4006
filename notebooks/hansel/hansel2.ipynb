{
 "cells": [
  {
   "cell_type": "markdown",
   "id": "bf0f4084",
   "metadata": {},
   "source": [
    "*An extension of hansel1 whereby a more generic approach is used for solving the problem by way of traversing an arbitrary node graph along a set of edges.*"
   ]
  },
  {
   "cell_type": "code",
   "execution_count": 1,
   "id": "4d39eb22",
   "metadata": {},
   "outputs": [
    {
     "data": {
      "image/png": "[encoded data removed]",
      "text/plain": [
       "<Figure size 432x288 with 1 Axes>"
      ]
     },
     "metadata": {
      "needs_background": "light"
     },
     "output_type": "display_data"
    }
   ],
   "source": [
    "%run hansel1.ipynb"
   ]
  },
  {
   "cell_type": "code",
   "execution_count": 2,
   "id": "a5cd325c",
   "metadata": {},
   "outputs": [],
   "source": [
    "# This file is a part of the final year project \"Story and Software\" (CSC4006).\n",
    "# Author: Konrad Mosoczy (Queen's University Belfast - QUB)\n",
    "# https://github.com/konmos/csc4006 (also available on GitLab)\n",
    "# ------------------------------------------------------------------------------\n",
    "# This is the HG notebook implementation 2.\n",
    "\n",
    "def walk_graph(nodes, edges, start, end):\n",
    "    '''\n",
    "    Traverse an arbitrary graph from a start node to an end node.\n",
    "    Success is not guaranteed, nor is the generated path likely to be optimal.\n",
    "    \n",
    "    :param nodes: sequence of nodes\n",
    "    :param edges: sequence of edges where an edge represents node visibility\n",
    "    :param start: starting point\n",
    "    :param end: end point\n",
    "    :return: sequence of steps taken\n",
    "    \n",
    "    Example\n",
    "    -------\n",
    "    >>> nodes = [1, 2, 3]\n",
    "    >>> edges = [(1, 2), (2, 3)]\n",
    "    >>> walk_graph(nodes, edges, 1, 3)\n",
    "    [1, 2, 3]\n",
    "    '''\n",
    "    last_node = start\n",
    "    visited = [start]\n",
    "    \n",
    "    while last_node != end:\n",
    "        visible_nodes = [\n",
    "            [x for x in e if x != last_node][0] for e in edges if last_node in e\n",
    "        ]\n",
    "        \n",
    "        unvisited = [n for n in visible_nodes if n not in visited]\n",
    "        \n",
    "        if not unvisited:\n",
    "            break\n",
    "        \n",
    "        last_node = unvisited[0]  # pick first available node\n",
    "        visited.append(last_node)\n",
    "    \n",
    "    return visited"
   ]
  },
  {
   "cell_type": "code",
   "execution_count": 3,
   "id": "47aa69ce",
   "metadata": {},
   "outputs": [],
   "source": [
    "# Construct a graph for demonstration purposes.\n",
    "# The graph passed to `walk_graph`, however, can be any\n",
    "# arbitrary graph defined by a set of nodes and a set of edges.\n",
    "# Each edge reepresents node \"visibility\", i.e., an edge from node\n",
    "# A to node B indicates that A is visible from B and vice versa.\n",
    "\n",
    "edges = []\n",
    "nodes = hansel.steps\n",
    "\n",
    "for n in nodes:\n",
    "    visible_locations = check_visibility(\n",
    "        n.pos,\n",
    "        [x.pos for x in nodes],\n",
    "        RADIUS\n",
    "    )\n",
    "    \n",
    "    pebbles = [\n",
    "        x for x in nodes if x.pos in visible_locations\n",
    "    ]\n",
    "    \n",
    "    edges.extend(frozenset((n, x)) for x in pebbles)\n",
    "\n",
    "edges = [tuple(x) for x in set(edges)]"
   ]
  },
  {
   "cell_type": "code",
   "execution_count": 4,
   "id": "fdf79db0",
   "metadata": {},
   "outputs": [
    {
     "data": {
      "image/png": "[encoded data removed]",
      "text/plain": [
       "<Figure size 432x288 with 1 Axes>"
      ]
     },
     "metadata": {
      "needs_background": "light"
     },
     "output_type": "display_data"
    }
   ],
   "source": [
    "# Find the start and end pebble\n",
    "end = [x for x in nodes if x.pos == (0, 0)][0]\n",
    "start = [x for x in nodes if x.pos == (100, 100)][0]\n",
    "\n",
    "\n",
    "visualize(hansel.steps, walk_graph(nodes, edges, start, end))"
   ]
  }
 ],
 "metadata": {
  "kernelspec": {
   "display_name": "Python 3 (ipykernel)",
   "language": "python",
   "name": "python3"
  },
  "language_info": {
   "codemirror_mode": {
    "name": "ipython",
    "version": 3
   },
   "file_extension": ".py",
   "mimetype": "text/x-python",
   "name": "python",
   "nbconvert_exporter": "python",
   "pygments_lexer": "ipython3",
   "version": "3.8.2"
  }
 },
 "nbformat": 4,
 "nbformat_minor": 5
}
